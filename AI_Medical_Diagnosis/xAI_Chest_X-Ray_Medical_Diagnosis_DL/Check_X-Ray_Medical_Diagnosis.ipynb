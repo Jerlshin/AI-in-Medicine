{
 "cells": [
  {
   "cell_type": "code",
   "execution_count": 61,
   "metadata": {},
   "outputs": [],
   "source": [
    "# Standard library imports\n",
    "import os\n",
    "import random\n",
    "import gc\n",
    "import configparser\n",
    "import pickle\n",
    "import copy\n",
    "import tarfile\n",
    "from typing import List\n",
    "\n",
    "import numpy as np\n",
    "import pandas as pd\n",
    "import seaborn as sns\n",
    "import matplotlib.pyplot as plt\n",
    "from PIL import Image\n",
    "\n",
    "import torch\n",
    "import torch.nn as nn\n",
    "from torchvision import transforms\n",
    "from torch.utils.data import Dataset, DataLoader, Subset\n",
    "from transformers import SwinForImageClassification, AutoImageProcessor, AutoModel, AutoModelForImageClassification\n",
    "from transformers import AdamW\n",
    "import torch.nn.functional as F\n",
    "\n",
    "from torch.optim.lr_scheduler import OneCycleLR\n",
    "\n",
    "from peft import LoraConfig, get_peft_model, TaskType\n",
    "from sklearn.model_selection import StratifiedKFold\n",
    "from sklearn.metrics import f1_score\n",
    "from torch.utils.tensorboard import SummaryWriter\n",
    "\n",
    "from torch.cuda.amp import GradScaler, autocast\n",
    "\n",
    "from tqdm.notebook import tqdm"
   ]
  },
  {
   "cell_type": "markdown",
   "metadata": {},
   "source": [
    "Environment Check"
   ]
  },
  {
   "cell_type": "code",
   "execution_count": 2,
   "metadata": {},
   "outputs": [],
   "source": [
    "seed = 42\n",
    "\n",
    "torch.manual_seed(seed)\n",
    "\n",
    "np.random.seed(seed)\n",
    "\n",
    "random.seed(seed)\n",
    "\n",
    "if torch.cuda.is_available():\n",
    "    torch.cuda.manual_seed(seed)\n",
    "    torch.cuda.manual_seed_all(seed)"
   ]
  },
  {
   "cell_type": "markdown",
   "metadata": {},
   "source": [
    "### Data Preparation"
   ]
  },
  {
   "cell_type": "code",
   "execution_count": 3,
   "metadata": {},
   "outputs": [],
   "source": [
    "project_config = configparser.ConfigParser()\n",
    "project_config.read(\"nih_config.ini\")\n",
    "\n",
    "DATASET = project_config[\"dataset\"][\"extracted_data_path\"]\n",
    "TAR_DATA = project_config[\"dataset\"][\"tar_data_path\"]\n",
    "\n",
    "LABELS = project_config[\"labels\"][\"label_path\"]"
   ]
  },
  {
   "cell_type": "code",
   "execution_count": 4,
   "metadata": {},
   "outputs": [],
   "source": [
    "DATA_NAMES = [\"test\", \"train\", \"val\"]"
   ]
  },
  {
   "cell_type": "code",
   "execution_count": 5,
   "metadata": {},
   "outputs": [],
   "source": [
    "TEST_DATASET = os.path.join(DATASET, DATA_NAMES[0])\n",
    "TRAIN_DATASET = os.path.join(DATASET, DATA_NAMES[1])\n",
    "VAL_DATASET = os.path.join(DATASET, DATA_NAMES[2])\n",
    "\n",
    "TEST_LABELS = os.path.join(LABELS, \"test_labels.csv\")\n",
    "TRAIN_LABELS = os.path.join(LABELS, \"train_labels.csv\")\n",
    "VAL_LABELS = os.path.join(LABELS, \"val_labels.csv\")"
   ]
  },
  {
   "cell_type": "code",
   "execution_count": null,
   "metadata": {},
   "outputs": [],
   "source": [
    "def extract_tar_data(tar_data: str, keys: List[str] = DATA_NAMES, target_dir: str = DATASET) -> None:\n",
    "    try:\n",
    "        if not os.path.isdir(tar_data):\n",
    "            raise FileNotFoundError(f\"Directory not found: {tar_data}\")\n",
    "\n",
    "        for file in os.listdir(tar_data):\n",
    "            if not file.endswith(\".tar\"):\n",
    "                continue\n",
    "\n",
    "            # Determine data type based on filename\n",
    "            data_type = None\n",
    "            for key in keys:\n",
    "                if key.lower() in file.lower():\n",
    "                    data_type = key\n",
    "                    break\n",
    "\n",
    "            if not data_type:\n",
    "                print(f\"Warning: Could not determine data type for {file}\")\n",
    "                continue\n",
    "\n",
    "            # Create target directory (if it doesn't exist)\n",
    "            target_data_dir = os.path.join(target_dir, data_type)\n",
    "            os.makedirs(target_data_dir, exist_ok=True)\n",
    "\n",
    "            # Extract tar file to the corresponding directory\n",
    "            tar_file_path = os.path.join(tar_data, file)\n",
    "            with tarfile.open(tar_file_path, 'r') as tar_ref:\n",
    "                tar_ref.extractall(target_data_dir)\n",
    "                print(f\"Successfully extracted {file} to {target_data_dir}\")\n",
    "\n",
    "    except FileNotFoundError as e:\n",
    "        print(f\"Error: {e}\")\n",
    "    except Exception as e:\n",
    "        print(f\"An error occurred during extraction: {e}\")\n",
    "        \n",
    "\n",
    "extract_tar_data(TAR_DATA, DATA_NAMES, DATASET)"
   ]
  },
  {
   "cell_type": "code",
   "execution_count": 7,
   "metadata": {},
   "outputs": [],
   "source": [
    "def clean_data(train_path: str, test_path: str, val_path: str) -> None:\n",
    "    \"\"\"\n",
    "    Deletes all .pyd files within the specified directories.\n",
    "    \"\"\"\n",
    "\n",
    "    for dir_path in [train_path, test_path, val_path]:\n",
    "        for root, _, files in os.walk(dir_path):\n",
    "            for file in files:\n",
    "                if file.endswith(\".pyd\"):\n",
    "                    file_path = os.path.join(root, file)\n",
    "                    try:\n",
    "                        os.remove(file_path)\n",
    "                    except OSError as e:\n",
    "                        print(f\"Error deleting {file_path}: {e}\")\n",
    "\n",
    "clean_data(TRAIN_DATASET, TEST_DATASET, VAL_DATASET)"
   ]
  },
  {
   "cell_type": "code",
   "execution_count": 6,
   "metadata": {},
   "outputs": [],
   "source": [
    "test_labels_raw_df = pd.read_csv(TEST_LABELS)\n",
    "train_labels_raw_df = pd.read_csv(TRAIN_LABELS)\n",
    "val_labels_raw_df = pd.read_csv(VAL_LABELS)"
   ]
  },
  {
   "cell_type": "code",
   "execution_count": 7,
   "metadata": {},
   "outputs": [
    {
     "data": {
      "text/html": [
       "<div>\n",
       "<style scoped>\n",
       "    .dataframe tbody tr th:only-of-type {\n",
       "        vertical-align: middle;\n",
       "    }\n",
       "\n",
       "    .dataframe tbody tr th {\n",
       "        vertical-align: top;\n",
       "    }\n",
       "\n",
       "    .dataframe thead th {\n",
       "        text-align: right;\n",
       "    }\n",
       "</style>\n",
       "<table border=\"1\" class=\"dataframe\">\n",
       "  <thead>\n",
       "    <tr style=\"text-align: right;\">\n",
       "      <th></th>\n",
       "      <th>Image Index</th>\n",
       "      <th>Atelectasis</th>\n",
       "      <th>Cardiomegaly</th>\n",
       "      <th>Effusion</th>\n",
       "      <th>Infiltration</th>\n",
       "      <th>Mass</th>\n",
       "      <th>Nodule</th>\n",
       "      <th>Pneumonia</th>\n",
       "      <th>Pneumothorax</th>\n",
       "      <th>Consolidation</th>\n",
       "      <th>Edema</th>\n",
       "      <th>Emphysema</th>\n",
       "      <th>Fibrosis</th>\n",
       "      <th>Pleural_Thickening</th>\n",
       "      <th>Hernia</th>\n",
       "    </tr>\n",
       "  </thead>\n",
       "  <tbody>\n",
       "    <tr>\n",
       "      <th>0</th>\n",
       "      <td>00000004_000.png</td>\n",
       "      <td>0</td>\n",
       "      <td>0</td>\n",
       "      <td>0</td>\n",
       "      <td>0</td>\n",
       "      <td>1</td>\n",
       "      <td>1</td>\n",
       "      <td>0</td>\n",
       "      <td>0</td>\n",
       "      <td>0</td>\n",
       "      <td>0</td>\n",
       "      <td>0</td>\n",
       "      <td>0</td>\n",
       "      <td>0</td>\n",
       "      <td>0</td>\n",
       "    </tr>\n",
       "    <tr>\n",
       "      <th>1</th>\n",
       "      <td>00000007_000.png</td>\n",
       "      <td>0</td>\n",
       "      <td>0</td>\n",
       "      <td>0</td>\n",
       "      <td>0</td>\n",
       "      <td>0</td>\n",
       "      <td>0</td>\n",
       "      <td>0</td>\n",
       "      <td>0</td>\n",
       "      <td>0</td>\n",
       "      <td>0</td>\n",
       "      <td>0</td>\n",
       "      <td>0</td>\n",
       "      <td>0</td>\n",
       "      <td>0</td>\n",
       "    </tr>\n",
       "    <tr>\n",
       "      <th>2</th>\n",
       "      <td>00000008_000.png</td>\n",
       "      <td>0</td>\n",
       "      <td>1</td>\n",
       "      <td>0</td>\n",
       "      <td>0</td>\n",
       "      <td>0</td>\n",
       "      <td>0</td>\n",
       "      <td>0</td>\n",
       "      <td>0</td>\n",
       "      <td>0</td>\n",
       "      <td>0</td>\n",
       "      <td>0</td>\n",
       "      <td>0</td>\n",
       "      <td>0</td>\n",
       "      <td>0</td>\n",
       "    </tr>\n",
       "    <tr>\n",
       "      <th>3</th>\n",
       "      <td>00000008_001.png</td>\n",
       "      <td>0</td>\n",
       "      <td>0</td>\n",
       "      <td>0</td>\n",
       "      <td>0</td>\n",
       "      <td>0</td>\n",
       "      <td>0</td>\n",
       "      <td>0</td>\n",
       "      <td>0</td>\n",
       "      <td>0</td>\n",
       "      <td>0</td>\n",
       "      <td>0</td>\n",
       "      <td>0</td>\n",
       "      <td>0</td>\n",
       "      <td>0</td>\n",
       "    </tr>\n",
       "    <tr>\n",
       "      <th>4</th>\n",
       "      <td>00000008_002.png</td>\n",
       "      <td>0</td>\n",
       "      <td>0</td>\n",
       "      <td>0</td>\n",
       "      <td>0</td>\n",
       "      <td>0</td>\n",
       "      <td>1</td>\n",
       "      <td>0</td>\n",
       "      <td>0</td>\n",
       "      <td>0</td>\n",
       "      <td>0</td>\n",
       "      <td>0</td>\n",
       "      <td>0</td>\n",
       "      <td>0</td>\n",
       "      <td>0</td>\n",
       "    </tr>\n",
       "  </tbody>\n",
       "</table>\n",
       "</div>"
      ],
      "text/plain": [
       "        Image Index  Atelectasis  Cardiomegaly  Effusion  Infiltration  Mass  \\\n",
       "0  00000004_000.png            0             0         0             0     1   \n",
       "1  00000007_000.png            0             0         0             0     0   \n",
       "2  00000008_000.png            0             1         0             0     0   \n",
       "3  00000008_001.png            0             0         0             0     0   \n",
       "4  00000008_002.png            0             0         0             0     0   \n",
       "\n",
       "   Nodule  Pneumonia  Pneumothorax  Consolidation  Edema  Emphysema  Fibrosis  \\\n",
       "0       1          0             0              0      0          0         0   \n",
       "1       0          0             0              0      0          0         0   \n",
       "2       0          0             0              0      0          0         0   \n",
       "3       0          0             0              0      0          0         0   \n",
       "4       1          0             0              0      0          0         0   \n",
       "\n",
       "   Pleural_Thickening  Hernia  \n",
       "0                   0       0  \n",
       "1                   0       0  \n",
       "2                   0       0  \n",
       "3                   0       0  \n",
       "4                   0       0  "
      ]
     },
     "execution_count": 7,
     "metadata": {},
     "output_type": "execute_result"
    }
   ],
   "source": [
    "train_labels_raw_df.head()"
   ]
  },
  {
   "cell_type": "code",
   "execution_count": 10,
   "metadata": {},
   "outputs": [
    {
     "data": {
      "text/plain": [
       "14"
      ]
     },
     "execution_count": 10,
     "metadata": {},
     "output_type": "execute_result"
    }
   ],
   "source": [
    "len(train_labels_raw_df.columns) - 1"
   ]
  },
  {
   "cell_type": "code",
   "execution_count": 11,
   "metadata": {},
   "outputs": [
    {
     "data": {
      "text/plain": [
       "(21172, 2896, 6480)"
      ]
     },
     "execution_count": 11,
     "metadata": {},
     "output_type": "execute_result"
    }
   ],
   "source": [
    "len(train_labels_raw_df), len(val_labels_raw_df), len(test_labels_raw_df)"
   ]
  },
  {
   "cell_type": "markdown",
   "metadata": {},
   "source": [
    "**Data Leakage**"
   ]
  },
  {
   "cell_type": "code",
   "execution_count": 12,
   "metadata": {},
   "outputs": [],
   "source": [
    "def check_for_leakage(df1, df2, image_index):\n",
    "    df1_unique = set(df1[image_index].values)\n",
    "    df2_unique = set(df2[image_index].values)\n",
    "    return len(df1_unique.intersection(df2_unique)) > 0"
   ]
  },
  {
   "cell_type": "code",
   "execution_count": 13,
   "metadata": {},
   "outputs": [
    {
     "name": "stdout",
     "output_type": "stream",
     "text": [
      "leakage between train and valid: False\n",
      "leakage between train and test: False\n",
      "leakage between valid and test: False\n"
     ]
    }
   ],
   "source": [
    "print(\"leakage between train and valid: {}\".format(check_for_leakage(train_labels_raw_df, val_labels_raw_df, 'Image Index')))\n",
    "print(\"leakage between train and test: {}\".format(check_for_leakage(train_labels_raw_df, test_labels_raw_df, 'Image Index')))\n",
    "print(\"leakage between valid and test: {}\".format(check_for_leakage(val_labels_raw_df, test_labels_raw_df, 'Image Index')))"
   ]
  },
  {
   "cell_type": "code",
   "execution_count": 14,
   "metadata": {},
   "outputs": [
    {
     "data": {
      "text/plain": [
       "array([0., 0., 0., 0., 1., 1., 0., 0., 0., 0., 0., 0., 0., 0.])"
      ]
     },
     "execution_count": 14,
     "metadata": {},
     "output_type": "execute_result"
    }
   ],
   "source": [
    "train_labels_raw_df.iloc[0, 1:].values.astype(float)"
   ]
  },
  {
   "cell_type": "code",
   "execution_count": 8,
   "metadata": {},
   "outputs": [],
   "source": [
    "class MedDataset(Dataset):\n",
    "    def __init__(self, data_dir, labels_df, image_processor, transforms=None):\n",
    "        self.data_dir = data_dir\n",
    "        self.labels_df = labels_df\n",
    "        self.image_processor = image_processor\n",
    "        self.transforms = transforms\n",
    "    \n",
    "    def __len__(self):\n",
    "        return len(self.labels_df)\n",
    "    \n",
    "    def __getitem__(self, index):\n",
    "        # Get the image name and labels\n",
    "        image_name = self.labels_df.iloc[index]['Image Index']\n",
    "        labels = self.labels_df.iloc[index, 1:].values.astype(float)\n",
    "        \n",
    "        image_path = os.path.join(self.data_dir, image_name)\n",
    "        \n",
    "        image = Image.open(image_path).convert(\"RGB\")\n",
    "        \n",
    "        # Apply preprocessing\n",
    "        processed_image = self.image_processor(image, return_tensors=\"pt\")\n",
    "        image_tensor = processed_image[\"pixel_values\"].squeeze(0)\n",
    "\n",
    "        if self.transforms:\n",
    "            image_tensor = self.transforms(image_tensor)\n",
    "        \n",
    "        labels_tensor = torch.tensor(labels, dtype=torch.float32)\n",
    "\n",
    "        return image_tensor, labels_tensor"
   ]
  },
  {
   "cell_type": "code",
   "execution_count": 9,
   "metadata": {},
   "outputs": [],
   "source": [
    "checkpoint_name = \"microsoft/swin-tiny-patch4-window7-224\""
   ]
  },
  {
   "cell_type": "code",
   "execution_count": 10,
   "metadata": {},
   "outputs": [],
   "source": [
    "swin_image_processor = AutoImageProcessor.from_pretrained(checkpoint_name)\n",
    "swin_model = AutoModelForImageClassification.from_pretrained(checkpoint_name)"
   ]
  },
  {
   "cell_type": "code",
   "execution_count": 11,
   "metadata": {},
   "outputs": [],
   "source": [
    "# Initialize datasets\n",
    "train_dataset = MedDataset(\n",
    "    data_dir=TRAIN_DATASET,\n",
    "    labels_df=train_labels_raw_df,\n",
    "    image_processor=swin_image_processor\n",
    ")\n",
    "\n",
    "val_dataset = MedDataset(\n",
    "    data_dir=VAL_DATASET,\n",
    "    labels_df=val_labels_raw_df,\n",
    "    image_processor=swin_image_processor\n",
    ")\n",
    "\n",
    "test_dataset = MedDataset(\n",
    "    data_dir=TEST_DATASET,\n",
    "    labels_df=test_labels_raw_df,\n",
    "    image_processor=swin_image_processor\n",
    ")"
   ]
  },
  {
   "cell_type": "code",
   "execution_count": 12,
   "metadata": {},
   "outputs": [],
   "source": [
    "batch_size = 8 # do it with 32 ra\n",
    "num_workers = 4\n",
    "\n",
    "train_loader = DataLoader(train_dataset, batch_size=batch_size, shuffle=True, num_workers=num_workers)\n",
    "val_loader = DataLoader(val_dataset, batch_size=batch_size, shuffle=False, num_workers=num_workers)\n",
    "test_loader = DataLoader(test_dataset, batch_size=batch_size, shuffle=False, num_workers=num_workers)"
   ]
  },
  {
   "cell_type": "markdown",
   "metadata": {},
   "source": [
    "## Model"
   ]
  },
  {
   "cell_type": "code",
   "execution_count": 20,
   "metadata": {},
   "outputs": [
    {
     "data": {
      "text/plain": [
       "ViTImageProcessor {\n",
       "  \"do_normalize\": true,\n",
       "  \"do_rescale\": true,\n",
       "  \"do_resize\": true,\n",
       "  \"image_mean\": [\n",
       "    0.485,\n",
       "    0.456,\n",
       "    0.406\n",
       "  ],\n",
       "  \"image_processor_type\": \"ViTImageProcessor\",\n",
       "  \"image_std\": [\n",
       "    0.229,\n",
       "    0.224,\n",
       "    0.225\n",
       "  ],\n",
       "  \"resample\": 3,\n",
       "  \"rescale_factor\": 0.00392156862745098,\n",
       "  \"size\": {\n",
       "    \"height\": 224,\n",
       "    \"width\": 224\n",
       "  }\n",
       "}"
      ]
     },
     "execution_count": 20,
     "metadata": {},
     "output_type": "execute_result"
    }
   ],
   "source": [
    "swin_image_processor"
   ]
  },
  {
   "cell_type": "code",
   "execution_count": 21,
   "metadata": {},
   "outputs": [],
   "source": [
    "custom_processor = transforms.Compose([\n",
    "    transforms.Resize((224, 224)),\n",
    "    transforms.ToTensor(),\n",
    "    transforms.Normalize(\n",
    "        mean=[0.485, 0.456, 0.406],\n",
    "        std=[0.229, 0.224, 0.225]\n",
    "    )\n",
    "])"
   ]
  },
  {
   "cell_type": "code",
   "execution_count": 22,
   "metadata": {},
   "outputs": [],
   "source": [
    "model_config = swin_model.config"
   ]
  },
  {
   "cell_type": "code",
   "execution_count": 23,
   "metadata": {},
   "outputs": [
    {
     "data": {
      "text/plain": [
       "768"
      ]
     },
     "execution_count": 23,
     "metadata": {},
     "output_type": "execute_result"
    }
   ],
   "source": [
    "model_config.hidden_size"
   ]
  },
  {
   "cell_type": "code",
   "execution_count": 24,
   "metadata": {},
   "outputs": [
    {
     "data": {
      "text/plain": [
       "'gelu'"
      ]
     },
     "execution_count": 24,
     "metadata": {},
     "output_type": "execute_result"
    }
   ],
   "source": [
    "model_config.hidden_act"
   ]
  },
  {
   "cell_type": "code",
   "execution_count": 25,
   "metadata": {},
   "outputs": [
    {
     "data": {
      "text/plain": [
       "Linear(in_features=768, out_features=1000, bias=True)"
      ]
     },
     "execution_count": 25,
     "metadata": {},
     "output_type": "execute_result"
    }
   ],
   "source": [
    "swin_model.classifier"
   ]
  },
  {
   "cell_type": "code",
   "execution_count": 42,
   "metadata": {},
   "outputs": [
    {
     "data": {
      "text/plain": [
       "SwinForImageClassification(\n",
       "  (swin): SwinModel(\n",
       "    (embeddings): SwinEmbeddings(\n",
       "      (patch_embeddings): SwinPatchEmbeddings(\n",
       "        (projection): Conv2d(3, 96, kernel_size=(4, 4), stride=(4, 4))\n",
       "      )\n",
       "      (norm): LayerNorm((96,), eps=1e-05, elementwise_affine=True)\n",
       "      (dropout): Dropout(p=0.0, inplace=False)\n",
       "    )\n",
       "    (encoder): SwinEncoder(\n",
       "      (layers): ModuleList(\n",
       "        (0): SwinStage(\n",
       "          (blocks): ModuleList(\n",
       "            (0-1): 2 x SwinLayer(\n",
       "              (layernorm_before): LayerNorm((96,), eps=1e-05, elementwise_affine=True)\n",
       "              (attention): SwinAttention(\n",
       "                (self): SwinSelfAttention(\n",
       "                  (query): Linear(in_features=96, out_features=96, bias=True)\n",
       "                  (key): Linear(in_features=96, out_features=96, bias=True)\n",
       "                  (value): Linear(in_features=96, out_features=96, bias=True)\n",
       "                  (dropout): Dropout(p=0.0, inplace=False)\n",
       "                )\n",
       "                (output): SwinSelfOutput(\n",
       "                  (dense): Linear(in_features=96, out_features=96, bias=True)\n",
       "                  (dropout): Dropout(p=0.0, inplace=False)\n",
       "                )\n",
       "              )\n",
       "              (drop_path): SwinDropPath(p=0.1)\n",
       "              (layernorm_after): LayerNorm((96,), eps=1e-05, elementwise_affine=True)\n",
       "              (intermediate): SwinIntermediate(\n",
       "                (dense): Linear(in_features=96, out_features=384, bias=True)\n",
       "                (intermediate_act_fn): GELUActivation()\n",
       "              )\n",
       "              (output): SwinOutput(\n",
       "                (dense): Linear(in_features=384, out_features=96, bias=True)\n",
       "                (dropout): Dropout(p=0.0, inplace=False)\n",
       "              )\n",
       "            )\n",
       "          )\n",
       "          (downsample): SwinPatchMerging(\n",
       "            (reduction): Linear(in_features=384, out_features=192, bias=False)\n",
       "            (norm): LayerNorm((384,), eps=1e-05, elementwise_affine=True)\n",
       "          )\n",
       "        )\n",
       "        (1): SwinStage(\n",
       "          (blocks): ModuleList(\n",
       "            (0-1): 2 x SwinLayer(\n",
       "              (layernorm_before): LayerNorm((192,), eps=1e-05, elementwise_affine=True)\n",
       "              (attention): SwinAttention(\n",
       "                (self): SwinSelfAttention(\n",
       "                  (query): Linear(in_features=192, out_features=192, bias=True)\n",
       "                  (key): Linear(in_features=192, out_features=192, bias=True)\n",
       "                  (value): Linear(in_features=192, out_features=192, bias=True)\n",
       "                  (dropout): Dropout(p=0.0, inplace=False)\n",
       "                )\n",
       "                (output): SwinSelfOutput(\n",
       "                  (dense): Linear(in_features=192, out_features=192, bias=True)\n",
       "                  (dropout): Dropout(p=0.0, inplace=False)\n",
       "                )\n",
       "              )\n",
       "              (drop_path): SwinDropPath(p=0.1)\n",
       "              (layernorm_after): LayerNorm((192,), eps=1e-05, elementwise_affine=True)\n",
       "              (intermediate): SwinIntermediate(\n",
       "                (dense): Linear(in_features=192, out_features=768, bias=True)\n",
       "                (intermediate_act_fn): GELUActivation()\n",
       "              )\n",
       "              (output): SwinOutput(\n",
       "                (dense): Linear(in_features=768, out_features=192, bias=True)\n",
       "                (dropout): Dropout(p=0.0, inplace=False)\n",
       "              )\n",
       "            )\n",
       "          )\n",
       "          (downsample): SwinPatchMerging(\n",
       "            (reduction): Linear(in_features=768, out_features=384, bias=False)\n",
       "            (norm): LayerNorm((768,), eps=1e-05, elementwise_affine=True)\n",
       "          )\n",
       "        )\n",
       "        (2): SwinStage(\n",
       "          (blocks): ModuleList(\n",
       "            (0-5): 6 x SwinLayer(\n",
       "              (layernorm_before): LayerNorm((384,), eps=1e-05, elementwise_affine=True)\n",
       "              (attention): SwinAttention(\n",
       "                (self): SwinSelfAttention(\n",
       "                  (query): Linear(in_features=384, out_features=384, bias=True)\n",
       "                  (key): Linear(in_features=384, out_features=384, bias=True)\n",
       "                  (value): Linear(in_features=384, out_features=384, bias=True)\n",
       "                  (dropout): Dropout(p=0.0, inplace=False)\n",
       "                )\n",
       "                (output): SwinSelfOutput(\n",
       "                  (dense): Linear(in_features=384, out_features=384, bias=True)\n",
       "                  (dropout): Dropout(p=0.0, inplace=False)\n",
       "                )\n",
       "              )\n",
       "              (drop_path): SwinDropPath(p=0.1)\n",
       "              (layernorm_after): LayerNorm((384,), eps=1e-05, elementwise_affine=True)\n",
       "              (intermediate): SwinIntermediate(\n",
       "                (dense): Linear(in_features=384, out_features=1536, bias=True)\n",
       "                (intermediate_act_fn): GELUActivation()\n",
       "              )\n",
       "              (output): SwinOutput(\n",
       "                (dense): Linear(in_features=1536, out_features=384, bias=True)\n",
       "                (dropout): Dropout(p=0.0, inplace=False)\n",
       "              )\n",
       "            )\n",
       "          )\n",
       "          (downsample): SwinPatchMerging(\n",
       "            (reduction): Linear(in_features=1536, out_features=768, bias=False)\n",
       "            (norm): LayerNorm((1536,), eps=1e-05, elementwise_affine=True)\n",
       "          )\n",
       "        )\n",
       "        (3): SwinStage(\n",
       "          (blocks): ModuleList(\n",
       "            (0-1): 2 x SwinLayer(\n",
       "              (layernorm_before): LayerNorm((768,), eps=1e-05, elementwise_affine=True)\n",
       "              (attention): SwinAttention(\n",
       "                (self): SwinSelfAttention(\n",
       "                  (query): Linear(in_features=768, out_features=768, bias=True)\n",
       "                  (key): Linear(in_features=768, out_features=768, bias=True)\n",
       "                  (value): Linear(in_features=768, out_features=768, bias=True)\n",
       "                  (dropout): Dropout(p=0.0, inplace=False)\n",
       "                )\n",
       "                (output): SwinSelfOutput(\n",
       "                  (dense): Linear(in_features=768, out_features=768, bias=True)\n",
       "                  (dropout): Dropout(p=0.0, inplace=False)\n",
       "                )\n",
       "              )\n",
       "              (drop_path): SwinDropPath(p=0.1)\n",
       "              (layernorm_after): LayerNorm((768,), eps=1e-05, elementwise_affine=True)\n",
       "              (intermediate): SwinIntermediate(\n",
       "                (dense): Linear(in_features=768, out_features=3072, bias=True)\n",
       "                (intermediate_act_fn): GELUActivation()\n",
       "              )\n",
       "              (output): SwinOutput(\n",
       "                (dense): Linear(in_features=3072, out_features=768, bias=True)\n",
       "                (dropout): Dropout(p=0.0, inplace=False)\n",
       "              )\n",
       "            )\n",
       "          )\n",
       "        )\n",
       "      )\n",
       "    )\n",
       "    (layernorm): LayerNorm((768,), eps=1e-05, elementwise_affine=True)\n",
       "    (pooler): AdaptiveAvgPool1d(output_size=1)\n",
       "  )\n",
       "  (classifier): Linear(in_features=768, out_features=1000, bias=True)\n",
       ")"
      ]
     },
     "execution_count": 42,
     "metadata": {},
     "output_type": "execute_result"
    }
   ],
   "source": [
    "swin_model"
   ]
  },
  {
   "cell_type": "code",
   "execution_count": 48,
   "metadata": {},
   "outputs": [
    {
     "data": {
      "text/plain": [
       "ModuleList(\n",
       "  (0): SwinStage(\n",
       "    (blocks): ModuleList(\n",
       "      (0-1): 2 x SwinLayer(\n",
       "        (layernorm_before): LayerNorm((96,), eps=1e-05, elementwise_affine=True)\n",
       "        (attention): SwinAttention(\n",
       "          (self): SwinSelfAttention(\n",
       "            (query): Linear(in_features=96, out_features=96, bias=True)\n",
       "            (key): Linear(in_features=96, out_features=96, bias=True)\n",
       "            (value): Linear(in_features=96, out_features=96, bias=True)\n",
       "            (dropout): Dropout(p=0.0, inplace=False)\n",
       "          )\n",
       "          (output): SwinSelfOutput(\n",
       "            (dense): Linear(in_features=96, out_features=96, bias=True)\n",
       "            (dropout): Dropout(p=0.0, inplace=False)\n",
       "          )\n",
       "        )\n",
       "        (drop_path): SwinDropPath(p=0.1)\n",
       "        (layernorm_after): LayerNorm((96,), eps=1e-05, elementwise_affine=True)\n",
       "        (intermediate): SwinIntermediate(\n",
       "          (dense): Linear(in_features=96, out_features=384, bias=True)\n",
       "          (intermediate_act_fn): GELUActivation()\n",
       "        )\n",
       "        (output): SwinOutput(\n",
       "          (dense): Linear(in_features=384, out_features=96, bias=True)\n",
       "          (dropout): Dropout(p=0.0, inplace=False)\n",
       "        )\n",
       "      )\n",
       "    )\n",
       "    (downsample): SwinPatchMerging(\n",
       "      (reduction): Linear(in_features=384, out_features=192, bias=False)\n",
       "      (norm): LayerNorm((384,), eps=1e-05, elementwise_affine=True)\n",
       "    )\n",
       "  )\n",
       "  (1): SwinStage(\n",
       "    (blocks): ModuleList(\n",
       "      (0-1): 2 x SwinLayer(\n",
       "        (layernorm_before): LayerNorm((192,), eps=1e-05, elementwise_affine=True)\n",
       "        (attention): SwinAttention(\n",
       "          (self): SwinSelfAttention(\n",
       "            (query): Linear(in_features=192, out_features=192, bias=True)\n",
       "            (key): Linear(in_features=192, out_features=192, bias=True)\n",
       "            (value): Linear(in_features=192, out_features=192, bias=True)\n",
       "            (dropout): Dropout(p=0.0, inplace=False)\n",
       "          )\n",
       "          (output): SwinSelfOutput(\n",
       "            (dense): Linear(in_features=192, out_features=192, bias=True)\n",
       "            (dropout): Dropout(p=0.0, inplace=False)\n",
       "          )\n",
       "        )\n",
       "        (drop_path): SwinDropPath(p=0.1)\n",
       "        (layernorm_after): LayerNorm((192,), eps=1e-05, elementwise_affine=True)\n",
       "        (intermediate): SwinIntermediate(\n",
       "          (dense): Linear(in_features=192, out_features=768, bias=True)\n",
       "          (intermediate_act_fn): GELUActivation()\n",
       "        )\n",
       "        (output): SwinOutput(\n",
       "          (dense): Linear(in_features=768, out_features=192, bias=True)\n",
       "          (dropout): Dropout(p=0.0, inplace=False)\n",
       "        )\n",
       "      )\n",
       "    )\n",
       "    (downsample): SwinPatchMerging(\n",
       "      (reduction): Linear(in_features=768, out_features=384, bias=False)\n",
       "      (norm): LayerNorm((768,), eps=1e-05, elementwise_affine=True)\n",
       "    )\n",
       "  )\n",
       "  (2): SwinStage(\n",
       "    (blocks): ModuleList(\n",
       "      (0-5): 6 x SwinLayer(\n",
       "        (layernorm_before): LayerNorm((384,), eps=1e-05, elementwise_affine=True)\n",
       "        (attention): SwinAttention(\n",
       "          (self): SwinSelfAttention(\n",
       "            (query): Linear(in_features=384, out_features=384, bias=True)\n",
       "            (key): Linear(in_features=384, out_features=384, bias=True)\n",
       "            (value): Linear(in_features=384, out_features=384, bias=True)\n",
       "            (dropout): Dropout(p=0.0, inplace=False)\n",
       "          )\n",
       "          (output): SwinSelfOutput(\n",
       "            (dense): Linear(in_features=384, out_features=384, bias=True)\n",
       "            (dropout): Dropout(p=0.0, inplace=False)\n",
       "          )\n",
       "        )\n",
       "        (drop_path): SwinDropPath(p=0.1)\n",
       "        (layernorm_after): LayerNorm((384,), eps=1e-05, elementwise_affine=True)\n",
       "        (intermediate): SwinIntermediate(\n",
       "          (dense): Linear(in_features=384, out_features=1536, bias=True)\n",
       "          (intermediate_act_fn): GELUActivation()\n",
       "        )\n",
       "        (output): SwinOutput(\n",
       "          (dense): Linear(in_features=1536, out_features=384, bias=True)\n",
       "          (dropout): Dropout(p=0.0, inplace=False)\n",
       "        )\n",
       "      )\n",
       "    )\n",
       "    (downsample): SwinPatchMerging(\n",
       "      (reduction): Linear(in_features=1536, out_features=768, bias=False)\n",
       "      (norm): LayerNorm((1536,), eps=1e-05, elementwise_affine=True)\n",
       "    )\n",
       "  )\n",
       "  (3): SwinStage(\n",
       "    (blocks): ModuleList(\n",
       "      (0-1): 2 x SwinLayer(\n",
       "        (layernorm_before): LayerNorm((768,), eps=1e-05, elementwise_affine=True)\n",
       "        (attention): SwinAttention(\n",
       "          (self): SwinSelfAttention(\n",
       "            (query): Linear(in_features=768, out_features=768, bias=True)\n",
       "            (key): Linear(in_features=768, out_features=768, bias=True)\n",
       "            (value): Linear(in_features=768, out_features=768, bias=True)\n",
       "            (dropout): Dropout(p=0.0, inplace=False)\n",
       "          )\n",
       "          (output): SwinSelfOutput(\n",
       "            (dense): Linear(in_features=768, out_features=768, bias=True)\n",
       "            (dropout): Dropout(p=0.0, inplace=False)\n",
       "          )\n",
       "        )\n",
       "        (drop_path): SwinDropPath(p=0.1)\n",
       "        (layernorm_after): LayerNorm((768,), eps=1e-05, elementwise_affine=True)\n",
       "        (intermediate): SwinIntermediate(\n",
       "          (dense): Linear(in_features=768, out_features=3072, bias=True)\n",
       "          (intermediate_act_fn): GELUActivation()\n",
       "        )\n",
       "        (output): SwinOutput(\n",
       "          (dense): Linear(in_features=3072, out_features=768, bias=True)\n",
       "          (dropout): Dropout(p=0.0, inplace=False)\n",
       "        )\n",
       "      )\n",
       "    )\n",
       "  )\n",
       ")"
      ]
     },
     "execution_count": 48,
     "metadata": {},
     "output_type": "execute_result"
    }
   ],
   "source": [
    "swin_model.swin.encoder.layers"
   ]
  },
  {
   "cell_type": "code",
   "execution_count": 49,
   "metadata": {},
   "outputs": [
    {
     "data": {
      "text/plain": [
       "4"
      ]
     },
     "execution_count": 49,
     "metadata": {},
     "output_type": "execute_result"
    }
   ],
   "source": [
    "len(swin_model.swin.encoder.layers)"
   ]
  },
  {
   "cell_type": "markdown",
   "metadata": {},
   "source": [
    "* Stage 0: The first stage has 2 blocks with 96 features. This stage is responsible for processing lower-level information such as edges and textures.\n",
    "* Stage 1: The second stage has 2 blocks with 192 features. This stage processes more complex features, combining the initial low-level information.\n",
    "* Stage 2: The third stage has 6 blocks with 384 features. At this point, the model captures more semantic information and high-level patterns.\n",
    "* Stage 3: The fourth stage has 2 blocks with 768 features. This stage is responsible for the most abstract features and task-specific learning."
   ]
  },
  {
   "cell_type": "code",
   "execution_count": 50,
   "metadata": {},
   "outputs": [],
   "source": [
    "class SwinModelWithPEFT(nn.Module):\n",
    "    def __init__(\n",
    "        self,\n",
    "        pretrained_model_name=\"microsoft/swin-tiny-patch4-window7-224\",\n",
    "        lora_r=8,\n",
    "        lora_alpha=32,\n",
    "        lora_dropout=0.1,\n",
    "        unfreeze_layers=2,\n",
    "    ):\n",
    "        super(SwinModelWithPEFT, self).__init__()\n",
    "\n",
    "        self.backbone = AutoModelForImageClassification.from_pretrained(pretrained_model_name)\n",
    "\n",
    "        self.backbone.classifier = nn.Identity()\n",
    "\n",
    "        # I'm getting error in Lora, dueto time constraint, I'm skipping this\n",
    "        \"\"\"\n",
    "        lora_config = LoraConfig(\n",
    "            r=lora_r,\n",
    "            lora_alpha=lora_alpha,\n",
    "            lora_dropout=lora_dropout,\n",
    "            target_modules=[\"query\", \"value\"],\n",
    "            task_type=\"FEATURE_EXTRACTION\"\n",
    "        )\n",
    "\n",
    "        \n",
    "        self.backbone = get_peft_model(self.backbone, lora_config)\n",
    "        \"\"\"\n",
    "        \n",
    "        self._unfreeze_layers(unfreeze_layers)\n",
    "        \n",
    "        # print(self.backbone)\n",
    "        # print(self.backbone.forward.__doc__)\n",
    "\n",
    "    def forward(self, pixel_values):\n",
    "        outputs = self.backbone(pixel_values=pixel_values)\n",
    "        # print(outputs)\n",
    "        return outputs\n",
    "    \n",
    "    def _unfreeze_layers(self, num_layers_to_unfreeze):\n",
    "        stages = self.backbone.swin.encoder.layers\n",
    "        total_stages = len(stages)\n",
    "        \n",
    "        ## Freeze layers below the ones we want to unfreeze\n",
    "        for i, stage in enumerate(stages):\n",
    "            if i < total_stages - num_layers_to_unfreeze:\n",
    "                for param in stage.parameters():\n",
    "                    param.requires_grad = False\n",
    "            else:\n",
    "                for block in stage.blocks:\n",
    "                    for param in block.parameters():\n",
    "                        param.requires_grad = True\n",
    "    \n",
    "    def freeze_all_layers(self):\n",
    "        for param in self.backbone.parameters():\n",
    "            param.requires_grad = False\n",
    "    \n",
    "    def unfreeze_all_layers(self):\n",
    "        for param in self.backbone.parameters():\n",
    "            param.requires_grad = True\n",
    "\n",
    "\n",
    "class MultiLabelClassifier(nn.Module):\n",
    "    def __init__(self, feature_dim, hidden_dim=512, num_classes=14):\n",
    "        super(MultiLabelClassifier, self).__init__()\n",
    "\n",
    "        self.classifier = nn.Sequential(\n",
    "            nn.Linear(feature_dim, hidden_dim),\n",
    "            nn.GELU(),\n",
    "            nn.Dropout(0.3),\n",
    "            nn.Linear(hidden_dim, num_classes),\n",
    "            nn.Sigmoid()\n",
    "        )\n",
    "\n",
    "    def forward(self, features):\n",
    "        logits = self.classifier(features)\n",
    "        return logits\n",
    "    \n",
    "    \n",
    "class MultiLabelModel(nn.Module):\n",
    "    def __init__(\n",
    "        self,\n",
    "        pretrained_model_name=\"microsoft/swin-tiny-patch4-window7-224\",\n",
    "        num_classes=14,\n",
    "        hidden_dim=512,\n",
    "        lora_r=8,\n",
    "        lora_alpha=32,\n",
    "        lora_dropout=0.1,\n",
    "    ):\n",
    "        super(MultiLabelModel, self).__init__()\n",
    "\n",
    "        self.feature_extractor = SwinModelWithPEFT(\n",
    "            pretrained_model_name=pretrained_model_name,\n",
    "            lora_r=lora_r,\n",
    "            lora_alpha=lora_alpha,\n",
    "            lora_dropout=lora_dropout,\n",
    "        )\n",
    "\n",
    "        feature_dim = self.feature_extractor.backbone.config.hidden_size\n",
    "        self.classifier = MultiLabelClassifier(\n",
    "            feature_dim=feature_dim,\n",
    "            hidden_dim=hidden_dim,\n",
    "            num_classes=num_classes,\n",
    "        )\n",
    "\n",
    "    def forward(self, pixel_values):\n",
    "        outputs = self.feature_extractor(pixel_values=pixel_values)\n",
    "        features = outputs.logits\n",
    "\n",
    "        logits = self.classifier(features)\n",
    "        return logits"
   ]
  },
  {
   "cell_type": "code",
   "execution_count": 51,
   "metadata": {},
   "outputs": [],
   "source": [
    "model = MultiLabelModel()"
   ]
  },
  {
   "cell_type": "code",
   "execution_count": 60,
   "metadata": {},
   "outputs": [
    {
     "data": {
      "text/plain": [
       "['CAUSAL_LM',\n",
       " 'FEATURE_EXTRACTION',\n",
       " 'QUESTION_ANS',\n",
       " 'SEQ_2_SEQ_LM',\n",
       " 'SEQ_CLS',\n",
       " 'TOKEN_CLS',\n",
       " '__add__',\n",
       " '__class__',\n",
       " '__contains__',\n",
       " '__delattr__']"
      ]
     },
     "execution_count": 60,
     "metadata": {},
     "output_type": "execute_result"
    }
   ],
   "source": [
    "dir(TaskType)[:10]"
   ]
  },
  {
   "cell_type": "markdown",
   "metadata": {},
   "source": [
    "## Loss calculation"
   ]
  },
  {
   "cell_type": "code",
   "execution_count": 128,
   "metadata": {},
   "outputs": [
    {
     "data": {
      "text/plain": [
       "Index(['Image Index', 'Atelectasis', 'Cardiomegaly', 'Effusion',\n",
       "       'Infiltration', 'Mass', 'Nodule', 'Pneumonia', 'Pneumothorax',\n",
       "       'Consolidation', 'Edema', 'Emphysema', 'Fibrosis', 'Pleural_Thickening',\n",
       "       'Hernia'],\n",
       "      dtype='object')"
      ]
     },
     "execution_count": 128,
     "metadata": {},
     "output_type": "execute_result"
    }
   ],
   "source": [
    "train_labels_raw_df.columns"
   ]
  },
  {
   "cell_type": "code",
   "execution_count": 129,
   "metadata": {},
   "outputs": [
    {
     "name": "stdout",
     "output_type": "stream",
     "text": [
      "\n",
      "Distribution of Atelectasis:\n",
      "Atelectasis\n",
      "0    19057\n",
      "1     2115\n",
      "Name: count, dtype: int64\n",
      "\n",
      "Distribution of Cardiomegaly:\n",
      "Cardiomegaly\n",
      "0    20617\n",
      "1      555\n",
      "Name: count, dtype: int64\n",
      "\n",
      "Distribution of Effusion:\n",
      "Effusion\n",
      "0    18718\n",
      "1     2454\n",
      "Name: count, dtype: int64\n",
      "\n",
      "Distribution of Infiltration:\n",
      "Infiltration\n",
      "0    17441\n",
      "1     3731\n",
      "Name: count, dtype: int64\n",
      "\n",
      "Distribution of Mass:\n",
      "Mass\n",
      "0    20215\n",
      "1      957\n",
      "Name: count, dtype: int64\n",
      "\n",
      "Distribution of Nodule:\n",
      "Nodule\n",
      "0    20009\n",
      "1     1163\n",
      "Name: count, dtype: int64\n",
      "\n",
      "Distribution of Pneumonia:\n",
      "Pneumonia\n",
      "0    20878\n",
      "1      294\n",
      "Name: count, dtype: int64\n",
      "\n",
      "Distribution of Pneumothorax:\n",
      "Pneumothorax\n",
      "0    20218\n",
      "1      954\n",
      "Name: count, dtype: int64\n",
      "\n",
      "Distribution of Consolidation:\n",
      "Consolidation\n",
      "0    20285\n",
      "1      887\n",
      "Name: count, dtype: int64\n",
      "\n",
      "Distribution of Edema:\n",
      "Edema\n",
      "0    20708\n",
      "1      464\n",
      "Name: count, dtype: int64\n",
      "\n",
      "Distribution of Emphysema:\n",
      "Emphysema\n",
      "0    20623\n",
      "1      549\n",
      "Name: count, dtype: int64\n",
      "\n",
      "Distribution of Fibrosis:\n",
      "Fibrosis\n",
      "0    20822\n",
      "1      350\n",
      "Name: count, dtype: int64\n",
      "\n",
      "Distribution of Pleural_Thickening:\n",
      "Pleural_Thickening\n",
      "0    20539\n",
      "1      633\n",
      "Name: count, dtype: int64\n",
      "\n",
      "Distribution of Hernia:\n",
      "Hernia\n",
      "0    21126\n",
      "1       46\n",
      "Name: count, dtype: int64\n"
     ]
    },
    {
     "data": {
      "image/png": "[encoded data removed]",
      "text/plain": [
       "<Figure size 1200x800 with 14 Axes>"
      ]
     },
     "metadata": {},
     "output_type": "display_data"
    }
   ],
   "source": [
    "for column in train_labels_raw_df.columns[1:]:\n",
    "    print(f\"\\nDistribution of {column}:\")\n",
    "    print(train_labels_raw_df[column].value_counts())\n",
    "\n",
    "plt.figure(figsize=(12, 8))\n",
    "for i, column in enumerate(train_labels_raw_df.columns[1:]):\n",
    "    plt.subplot(4, 4, i+1)\n",
    "    sns.countplot(x=column, data=train_labels_raw_df)\n",
    "    plt.title(f\"Distribution of {column}\")\n",
    "    plt.xticks(rotation=45)\n",
    "plt.tight_layout()\n",
    "plt.show()\n"
   ]
  },
  {
   "cell_type": "code",
   "execution_count": 136,
   "metadata": {},
   "outputs": [
    {
     "data": {
      "text/plain": [
       "Atelectasis           0\n",
       "Cardiomegaly          0\n",
       "Effusion              0\n",
       "Infiltration          0\n",
       "Mass                  1\n",
       "Nodule                1\n",
       "Pneumonia             0\n",
       "Pneumothorax          0\n",
       "Consolidation         0\n",
       "Edema                 0\n",
       "Emphysema             0\n",
       "Fibrosis              0\n",
       "Pleural_Thickening    0\n",
       "Hernia                0\n",
       "Name: 0, dtype: object"
      ]
     },
     "execution_count": 136,
     "metadata": {},
     "output_type": "execute_result"
    }
   ],
   "source": [
    "train_labels_raw_df.iloc[0, 1:]"
   ]
  },
  {
   "cell_type": "code",
   "execution_count": 146,
   "metadata": {},
   "outputs": [
    {
     "name": "stdout",
     "output_type": "stream",
     "text": [
      "\n",
      "Overall Sample Distribution:\n",
      "                 Class  Count\n",
      "3         Infiltration   3731\n",
      "2             Effusion   2454\n",
      "0          Atelectasis   2115\n",
      "5               Nodule   1163\n",
      "4                 Mass    957\n",
      "7         Pneumothorax    954\n",
      "8        Consolidation    887\n",
      "12  Pleural_Thickening    633\n",
      "1         Cardiomegaly    555\n",
      "10           Emphysema    549\n",
      "9                Edema    464\n",
      "11            Fibrosis    350\n",
      "6            Pneumonia    294\n",
      "13              Hernia     46\n"
     ]
    },
    {
     "data": {
      "image/png": "[encoded data removed]",
      "text/plain": [
       "<Figure size 1000x600 with 1 Axes>"
      ]
     },
     "metadata": {},
     "output_type": "display_data"
    }
   ],
   "source": [
    "class_counts = train_labels_raw_df.iloc[:, 1:].sum()\n",
    "\n",
    "class_dist_df = pd.DataFrame({'Class': class_counts.index, 'Count': class_counts.values})\n",
    "class_dist_df = class_dist_df.sort_values(by='Count', ascending=False)\n",
    "\n",
    "print(\"\\nOverall Sample Distribution:\")\n",
    "print(class_dist_df)\n",
    "\n",
    "plt.figure(figsize=(10, 6))\n",
    "sns.set_style(\"whitegrid\")\n",
    "sns.barplot(x='Class', y='Count', data=class_dist_df, palette=\"viridis\", hue='Class')\n",
    "plt.title(\"Overall Sample Distribution of Classes\", fontsize=14, fontweight='bold')\n",
    "plt.xlabel(\"Class\", fontsize=12)\n",
    "plt.ylabel(\"Number of Positive Samples\", fontsize=12)\n",
    "plt.xticks(rotation=45, ha='right', fontsize=10)\n",
    "plt.show()\n"
   ]
  },
  {
   "cell_type": "code",
   "execution_count": 15,
   "metadata": {},
   "outputs": [],
   "source": [
    "class ModifiedWeightedFocalLoss(nn.Module):\n",
    "    def __init__(self, class_weights=None, gamma=2.0, alpha=0.25, reduction=\"mean\"):\n",
    "        super(ModifiedWeightedFocalLoss, self).__init__()\n",
    "        self.gamma = gamma\n",
    "        self.alpha = alpha\n",
    "        self.reduction = reduction\n",
    "        \n",
    "        if class_weights is not None:\n",
    "            self.class_weights = class_weights\n",
    "        else:\n",
    "            self.class_weights = torch.ones(14)\n",
    "\n",
    "    def forward(self, inputs, targets):\n",
    "\n",
    "        probas = torch.sigmoid(inputs)\n",
    "\n",
    "        bce_loss = F.binary_cross_entropy(probas, targets, reduction=\"none\")\n",
    "        \n",
    "        # modulating factor (1 - p_t) ** gamma\n",
    "        p_t = probas * targets + (1 - probas) * (1 - targets)\n",
    "        modulating_factor = (1 - p_t) ** self.gamma\n",
    "        \n",
    "        # focal loss term\n",
    "        focal_loss = self.alpha * modulating_factor * bce_loss\n",
    "\n",
    "        weighted_loss = focal_loss * self.class_weights\n",
    "\n",
    "        # final loss\n",
    "        if self.reduction == \"mean\":\n",
    "            return weighted_loss.mean()\n",
    "        elif self.reduction == \"sum\":\n",
    "            return weighted_loss.sum()\n",
    "        else:\n",
    "            return weighted_loss\n"
   ]
  },
  {
   "cell_type": "code",
   "execution_count": 170,
   "metadata": {},
   "outputs": [
    {
     "data": {
      "text/plain": [
       "Atelectasis           2115\n",
       "Cardiomegaly           555\n",
       "Effusion              2454\n",
       "Infiltration          3731\n",
       "Mass                   957\n",
       "Nodule                1163\n",
       "Pneumonia              294\n",
       "Pneumothorax           954\n",
       "Consolidation          887\n",
       "Edema                  464\n",
       "Emphysema              549\n",
       "Fibrosis               350\n",
       "Pleural_Thickening     633\n",
       "Hernia                  46\n",
       "dtype: int64"
      ]
     },
     "execution_count": 170,
     "metadata": {},
     "output_type": "execute_result"
    }
   ],
   "source": [
    "class_counts"
   ]
  },
  {
   "cell_type": "code",
   "execution_count": 16,
   "metadata": {},
   "outputs": [],
   "source": [
    "total_samples = len(train_labels_raw_df)\n",
    "\n",
    "positive_counts = train_labels_raw_df.iloc[:, 1:].sum(axis=0)\n",
    "\n",
    "class_weights = total_samples / positive_counts\n",
    "\n",
    "normalized_class_weights = class_weights / class_weights.max()"
   ]
  },
  {
   "cell_type": "code",
   "execution_count": 17,
   "metadata": {},
   "outputs": [
    {
     "data": {
      "text/plain": [
       "array([0.02174941, 0.08288288, 0.01874491, 0.01232913, 0.04806688,\n",
       "       0.03955288, 0.15646259, 0.04821803, 0.0518602 , 0.09913793,\n",
       "       0.08378871, 0.13142857, 0.07266983, 1.        ])"
      ]
     },
     "execution_count": 17,
     "metadata": {},
     "output_type": "execute_result"
    }
   ],
   "source": [
    "normalized_class_weights.values"
   ]
  },
  {
   "cell_type": "code",
   "execution_count": 18,
   "metadata": {},
   "outputs": [
    {
     "data": {
      "text/plain": [
       "1.8668919412990093"
      ]
     },
     "execution_count": 18,
     "metadata": {},
     "output_type": "execute_result"
    }
   ],
   "source": [
    "normalized_class_weights.values.sum()"
   ]
  },
  {
   "cell_type": "code",
   "execution_count": 19,
   "metadata": {},
   "outputs": [
    {
     "data": {
      "text/plain": [
       "859.2573082865788"
      ]
     },
     "execution_count": 19,
     "metadata": {},
     "output_type": "execute_result"
    }
   ],
   "source": [
    "class_weights.values.sum()"
   ]
  },
  {
   "cell_type": "code",
   "execution_count": 20,
   "metadata": {},
   "outputs": [
    {
     "data": {
      "text/plain": [
       "pandas.core.series.Series"
      ]
     },
     "execution_count": 20,
     "metadata": {},
     "output_type": "execute_result"
    }
   ],
   "source": [
    "type(normalized_class_weights)"
   ]
  },
  {
   "cell_type": "code",
   "execution_count": 21,
   "metadata": {},
   "outputs": [],
   "source": [
    "weights = torch.tensor(normalized_class_weights.values)"
   ]
  },
  {
   "cell_type": "code",
   "execution_count": 22,
   "metadata": {},
   "outputs": [
    {
     "data": {
      "text/plain": [
       "tensor([0.0217, 0.0829, 0.0187, 0.0123, 0.0481, 0.0396, 0.1565, 0.0482, 0.0519,\n",
       "        0.0991, 0.0838, 0.1314, 0.0727, 1.0000], dtype=torch.float64)"
      ]
     },
     "execution_count": 22,
     "metadata": {},
     "output_type": "execute_result"
    }
   ],
   "source": [
    "weights"
   ]
  },
  {
   "cell_type": "markdown",
   "metadata": {},
   "source": [
    "## Train"
   ]
  },
  {
   "cell_type": "markdown",
   "metadata": {},
   "source": [
    "### Param"
   ]
  },
  {
   "cell_type": "code",
   "execution_count": 23,
   "metadata": {},
   "outputs": [
    {
     "name": "stderr",
     "output_type": "stream",
     "text": [
      "/home/jerlshin/anaconda3/envs/gnn/lib/python3.12/site-packages/transformers/optimization.py:591: FutureWarning: This implementation of AdamW is deprecated and will be removed in a future version. Use the PyTorch implementation torch.optim.AdamW instead, or set `no_deprecation_warning=True` to disable this warning\n",
      "  warnings.warn(\n"
     ]
    }
   ],
   "source": [
    "device = torch.device(\"cuda\" if torch.cuda.is_available() else \"cpu\")\n",
    "\n",
    "\n",
    "optimizer = AdamW(model.parameters(), lr=1e-4, weight_decay=0.01)\n",
    "scheduler = OneCycleLR(optimizer, max_lr=1e-4, steps_per_epoch=len(train_loader), epochs=50)\n",
    "criterion = ModifiedWeightedFocalLoss(class_weights=weights, gamma=2.0, alpha=0.25, reduction=\"mean\")"
   ]
  },
  {
   "cell_type": "code",
   "execution_count": 199,
   "metadata": {},
   "outputs": [],
   "source": [
    "sample_data = train_dataset[0]"
   ]
  },
  {
   "cell_type": "code",
   "execution_count": 202,
   "metadata": {},
   "outputs": [
    {
     "data": {
      "text/plain": [
       "tuple"
      ]
     },
     "execution_count": 202,
     "metadata": {},
     "output_type": "execute_result"
    }
   ],
   "source": [
    "type(sample_data)"
   ]
  },
  {
   "cell_type": "code",
   "execution_count": 28,
   "metadata": {},
   "outputs": [],
   "source": [
    "image_path = \"/home/jerlshin/FieldOfInterest/My_Work/afnan/nih-chest-xray-webdataset-subset-main/Extracted_DATASET/train/00023969_000.png\"\n"
   ]
  },
  {
   "cell_type": "code",
   "execution_count": 29,
   "metadata": {},
   "outputs": [],
   "source": [
    "image = Image.open(image_path).convert(\"RGB\")\n",
    "processed_image = swin_image_processor(image, return_tensors=\"pt\")"
   ]
  },
  {
   "cell_type": "code",
   "execution_count": 30,
   "metadata": {},
   "outputs": [
    {
     "data": {
      "text/plain": [
       "dict_keys(['pixel_values'])"
      ]
     },
     "execution_count": 30,
     "metadata": {},
     "output_type": "execute_result"
    }
   ],
   "source": [
    "processed_image.keys()"
   ]
  },
  {
   "cell_type": "code",
   "execution_count": 31,
   "metadata": {},
   "outputs": [
    {
     "data": {
      "text/plain": [
       "torch.Size([1, 3, 224, 224])"
      ]
     },
     "execution_count": 31,
     "metadata": {},
     "output_type": "execute_result"
    }
   ],
   "source": [
    "processed_image[\"pixel_values\"].shape"
   ]
  },
  {
   "cell_type": "code",
   "execution_count": 32,
   "metadata": {},
   "outputs": [
    {
     "data": {
      "text/plain": [
       "torch.Size([3, 224, 224])"
      ]
     },
     "execution_count": 32,
     "metadata": {},
     "output_type": "execute_result"
    }
   ],
   "source": [
    "processed_image[\"pixel_values\"].squeeze(0).shape"
   ]
  },
  {
   "cell_type": "code",
   "execution_count": 33,
   "metadata": {},
   "outputs": [
    {
     "data": {
      "text/plain": [
       "Linear(in_features=768, out_features=1000, bias=True)"
      ]
     },
     "execution_count": 33,
     "metadata": {},
     "output_type": "execute_result"
    }
   ],
   "source": [
    "swin_model.classifier"
   ]
  },
  {
   "cell_type": "code",
   "execution_count": 76,
   "metadata": {},
   "outputs": [
    {
     "data": {
      "text/plain": [
       "MultiLabelClassifier(\n",
       "  (classifier): Sequential(\n",
       "    (0): Linear(in_features=768, out_features=512, bias=True)\n",
       "    (1): GELU(approximate='none')\n",
       "    (2): Dropout(p=0.3, inplace=False)\n",
       "    (3): Linear(in_features=512, out_features=14, bias=True)\n",
       "    (4): Sigmoid()\n",
       "  )\n",
       ")"
      ]
     },
     "execution_count": 76,
     "metadata": {},
     "output_type": "execute_result"
    }
   ],
   "source": [
    "model.classifier"
   ]
  },
  {
   "cell_type": "code",
   "execution_count": 36,
   "metadata": {},
   "outputs": [],
   "source": [
    "pixel_values = processed_image[\"pixel_values\"]"
   ]
  },
  {
   "cell_type": "code",
   "execution_count": 85,
   "metadata": {},
   "outputs": [],
   "source": [
    "model_feature_extractor = model.feature_extractor\n",
    "model_classifier = model.classifier"
   ]
  },
  {
   "cell_type": "code",
   "execution_count": 68,
   "metadata": {},
   "outputs": [],
   "source": [
    "class StratifiedKFoldCV:\n",
    "    def __init__(self, train_dataset, train_labels_df, val_dataset=None, val_labels_df=None, \n",
    "                 k_folds=5, batch_size=32, shuffle=True, random_seed=42, log_dir=\"runs/stratified_kfold\"):\n",
    "        \"\"\"\n",
    "        Args:\n",
    "            train_dataset (Dataset): The training dataset (e.g., MedDataset) to be split into K folds.\n",
    "            train_labels_df (DataFrame): The labels dataframe for the training dataset.\n",
    "            val_dataset (Dataset, optional): The validation dataset for evaluating the model on fixed data.\n",
    "            val_labels_df (DataFrame, optional): The labels dataframe for the validation dataset.\n",
    "            k_folds (int): The number of folds for cross-validation.\n",
    "            batch_size (int): Batch size for the DataLoader.\n",
    "            shuffle (bool): Whether to shuffle the dataset before splitting.\n",
    "            random_seed (int): Random seed for reproducibility.\n",
    "            log_dir (str): Directory to store TensorBoard logs.\n",
    "        \"\"\"\n",
    "        self.train_dataset = train_dataset\n",
    "        self.train_labels_df = train_labels_df\n",
    "        self.val_dataset = val_dataset\n",
    "        self.val_labels_df = val_labels_df\n",
    "        self.k_folds = k_folds\n",
    "        self.batch_size = batch_size\n",
    "        self.shuffle = shuffle\n",
    "        self.random_seed = random_seed\n",
    "        self.log_dir = log_dir\n",
    "        self.kfold = StratifiedKFold(n_splits=k_folds, shuffle=shuffle, random_state=random_seed)\n",
    "        self.writer = SummaryWriter(log_dir)\n",
    "\n",
    "    def get_data_loaders(self, fold):\n",
    "        \"\"\"\n",
    "        Get the train and validation DataLoaders for the current fold.\n",
    "\n",
    "        Args:\n",
    "            fold (int): The current fold number.\n",
    "\n",
    "        Returns:\n",
    "            train_loader (DataLoader): DataLoader for the training set of the current fold.\n",
    "            val_loader (DataLoader): DataLoader for the validation set of the current fold.\n",
    "        \"\"\"\n",
    "        # Get the indices for train and validation splits for the current fold\n",
    "        train_idx, val_idx = list(self.kfold.split(self.train_labels_df, self.train_labels_df['Atelectasis']))[fold]\n",
    "\n",
    "        # Create Subsets for training and validation sets\n",
    "        train_subset = Subset(self.train_dataset, train_idx)\n",
    "        val_subset = Subset(self.train_dataset, val_idx)\n",
    "\n",
    "        # Create DataLoaders\n",
    "        train_loader = DataLoader(train_subset, batch_size=self.batch_size, shuffle=self.shuffle)\n",
    "        val_loader = DataLoader(val_subset, batch_size=self.batch_size, shuffle=False)\n",
    "\n",
    "        return train_loader, val_loader\n",
    "\n",
    "    def train(self, model, optimizer, scheduler, criterion, device, train_loader, epoch):\n",
    "        \"\"\"\n",
    "        Train the model for one epoch.\n",
    "\n",
    "        Args:\n",
    "            model (nn.Module): The model to train.\n",
    "            optimizer (torch.optim.Optimizer): The optimizer.\n",
    "            scheduler (torch.optim.lr_scheduler._LRScheduler): The learning rate scheduler.\n",
    "            criterion (nn.Module): The loss function.\n",
    "            device (torch.device): The device (GPU or CPU).\n",
    "            train_loader (DataLoader): DataLoader for the training set.\n",
    "\n",
    "        Returns:\n",
    "            avg_train_loss (float): Average training loss for the epoch.\n",
    "            train_accuracy (float): Training accuracy for the epoch.\n",
    "            train_f1 (float): Training F1 score for the epoch.\n",
    "        \"\"\"\n",
    "        model.train()\n",
    "        running_train_loss = 0.0\n",
    "        correct_train_predictions = 0\n",
    "        total_train_samples = 0\n",
    "        all_train_labels = []\n",
    "        all_train_preds = []\n",
    "\n",
    "        for images, labels in tqdm(train_loader, desc=f\"Training Epoch {epoch + 1}\", leave=False):\n",
    "            images, labels = images.to(device), labels.to(device)\n",
    "\n",
    "            optimizer.zero_grad()  # Zero out gradients from the previous step\n",
    "\n",
    "            # Forward pass\n",
    "            outputs = model(images)\n",
    "\n",
    "            # Calculate loss\n",
    "            loss = criterion(outputs, labels)\n",
    "\n",
    "            # Backward pass\n",
    "            loss.backward()\n",
    "\n",
    "            # Gradient clipping (to avoid exploding gradients)\n",
    "            torch.nn.utils.clip_grad_norm_(model.parameters(), max_norm=1.0)\n",
    "\n",
    "            # Optimizer step\n",
    "            optimizer.step()\n",
    "\n",
    "            # Update learning rate scheduler\n",
    "            scheduler.step()\n",
    "\n",
    "            # Accumulate loss for logging\n",
    "            running_train_loss += loss.item()\n",
    "\n",
    "            # For multi-label classification, use thresholding at 0.5 to predict class labels\n",
    "            predictions = (outputs > 0.5).float()  # Sigmoid thresholding\n",
    "            correct_train_predictions += (predictions == labels).sum().item()\n",
    "            total_train_samples += labels.numel()\n",
    "\n",
    "            # Collect all labels and predictions for F1 score\n",
    "            all_train_labels.append(labels.cpu().numpy())\n",
    "            all_train_preds.append(predictions.cpu().numpy())\n",
    "\n",
    "        # Average training loss and accuracy\n",
    "        avg_train_loss = running_train_loss / len(train_loader)\n",
    "        train_accuracy = correct_train_predictions / total_train_samples * 100  # In percentage\n",
    "\n",
    "        # Flatten lists for F1 calculation\n",
    "        all_train_labels = np.concatenate(all_train_labels)\n",
    "        all_train_preds = np.concatenate(all_train_preds)\n",
    "\n",
    "        # F1 score\n",
    "        train_f1 = f1_score(all_train_labels, all_train_preds, average='macro')\n",
    "\n",
    "        print(f\"Epoch {epoch + 1} - Train Loss: {avg_train_loss:.4f}, Train Accuracy: {train_accuracy:.2f}%, Train F1: {train_f1:.4f}\")\n",
    "\n",
    "        return avg_train_loss, train_accuracy, train_f1\n",
    "\n",
    "    def validate(self, model, criterion, device, val_loader, epoch):\n",
    "        \"\"\"\n",
    "        Validate the model on the validation set.\n",
    "\n",
    "        Args:\n",
    "            model (nn.Module): The model to validate.\n",
    "            criterion (nn.Module): The loss function.\n",
    "            device (torch.device): The device (GPU or CPU).\n",
    "            val_loader (DataLoader): DataLoader for the validation set.\n",
    "\n",
    "        Returns:\n",
    "            avg_val_loss (float): Average validation loss for the epoch.\n",
    "            val_accuracy (float): Validation accuracy for the epoch.\n",
    "            val_f1 (float): Validation F1 score for the epoch.\n",
    "        \"\"\"\n",
    "        model.eval()\n",
    "        running_val_loss = 0.0\n",
    "        correct_val_predictions = 0\n",
    "        total_val_samples = 0\n",
    "        all_val_labels = []\n",
    "        all_val_preds = []\n",
    "\n",
    "        with torch.no_grad():  # Disable gradient calculation for validation\n",
    "            for images, labels in tqdm(val_loader, desc=\"Validating\", leave=False):\n",
    "                images, labels = images.to(device), labels.to(device)\n",
    "\n",
    "                # Forward pass\n",
    "                outputs = model(images)\n",
    "\n",
    "                # Calculate loss\n",
    "                loss = criterion(outputs, labels)\n",
    "\n",
    "                # Accumulate validation loss\n",
    "                running_val_loss += loss.item()\n",
    "\n",
    "                # For multi-label classification, use thresholding at 0.5 to predict class labels\n",
    "                predictions = (outputs > 0.5).float()  # Sigmoid thresholding\n",
    "                correct_val_predictions += (predictions == labels).sum().item()\n",
    "                total_val_samples += labels.numel()\n",
    "\n",
    "                # Collect all labels and predictions for F1 score\n",
    "                all_val_labels.append(labels.cpu().numpy())\n",
    "                all_val_preds.append(predictions.cpu().numpy())\n",
    "\n",
    "        # Average validation loss and accuracy\n",
    "        avg_val_loss = running_val_loss / len(val_loader)\n",
    "        val_accuracy = correct_val_predictions / total_val_samples * 100  # In percentage\n",
    "\n",
    "        # Flatten lists for F1 calculation\n",
    "        all_val_labels = np.concatenate(all_val_labels)\n",
    "        all_val_preds = np.concatenate(all_val_preds)\n",
    "\n",
    "        # F1 score\n",
    "        val_f1 = f1_score(all_val_labels, all_val_preds, average='macro')\n",
    "        \n",
    "        print(f\"Epoch {epoch + 1} - Val Loss: {avg_val_loss:.4f}, Val Accuracy: {val_accuracy:.2f}%, Val F1: {val_f1:.4f}\")\n",
    "\n",
    "        return avg_val_loss, val_accuracy, val_f1\n",
    "\n",
    "    def plot_losses(self, train_losses, val_losses, epoch):\n",
    "        \"\"\"\n",
    "        Plot the training and validation loss for the current epoch.\n",
    "\n",
    "        Args:\n",
    "            train_losses (list): List of training losses.\n",
    "            val_losses (list): List of validation losses.\n",
    "            epoch (int): Current epoch number.\n",
    "        \"\"\"\n",
    "        plt.figure(figsize=(10, 6))\n",
    "        plt.plot(train_losses, label=\"Train Loss\", color=\"blue\")\n",
    "        plt.plot(val_losses, label=\"Val Loss\", color=\"red\")\n",
    "        plt.xlabel(\"Epoch\")\n",
    "        plt.ylabel(\"Loss\")\n",
    "        plt.title(f\"Losses for Epoch {epoch}\")\n",
    "        plt.legend()\n",
    "        plt.savefig(f\"epoch_{epoch}_loss_plot.png\")\n",
    "        plt.close()\n",
    "\n",
    "    def run(self, model, optimizer, scheduler, criterion, device, num_epochs=50):\n",
    "        \"\"\"\n",
    "        Run Stratified K-Fold Cross Validation.\n",
    "\n",
    "        Args:\n",
    "            model (nn.Module): The model to train.\n",
    "            optimizer (torch.optim.Optimizer): The optimizer.\n",
    "            scheduler (torch.optim.lr_scheduler._LRScheduler): The learning rate scheduler.\n",
    "            criterion (nn.Module): The loss function.\n",
    "            device (torch.device): The device (GPU or CPU).\n",
    "            num_epochs (int): Number of epochs for training.\n",
    "\n",
    "        Returns:\n",
    "            avg_train_loss (float): Average training loss across all folds.\n",
    "            avg_val_loss (float): Average validation loss across all folds.\n",
    "            avg_val_accuracy (float): Average validation accuracy across all folds.\n",
    "        \"\"\"\n",
    "        fold_train_losses = []\n",
    "        fold_val_losses = []\n",
    "        fold_val_accuracies = []\n",
    "        fold_val_f1_scores = []\n",
    "\n",
    "        for fold in range(self.k_folds):\n",
    "            print(f\"Fold {fold + 1}/{self.k_folds}\")\n",
    "            train_loader, val_loader = self.get_data_loaders(fold)\n",
    "\n",
    "            # Initialize loss lists for plotting\n",
    "            train_losses = []\n",
    "            val_losses = []\n",
    "\n",
    "            for epoch in range(num_epochs):\n",
    "                print(f\"Epoch {epoch + 1}/{num_epochs}\")\n",
    "\n",
    "                # Train the model for the current epoch\n",
    "                avg_train_loss, train_accuracy, train_f1 = self.train(\n",
    "                    model, optimizer, scheduler, criterion, device, train_loader, epoch\n",
    "                )\n",
    "\n",
    "                # Validate the model for the current epoch\n",
    "                avg_val_loss, val_accuracy, val_f1 = self.validate(\n",
    "                    model, criterion, device, val_loader, epoch\n",
    "                )\n",
    "\n",
    "                # Log metrics to TensorBoard\n",
    "                self.writer.add_scalars('Loss', {'train': avg_train_loss, 'val': avg_val_loss}, epoch)\n",
    "                self.writer.add_scalars('Accuracy', {'train': train_accuracy, 'val': val_accuracy}, epoch)\n",
    "                self.writer.add_scalars('F1 Score', {'train': train_f1, 'val': val_f1}, epoch)\n",
    "\n",
    "                # Save losses for plotting\n",
    "                train_losses.append(avg_train_loss)\n",
    "                val_losses.append(avg_val_loss)\n",
    "\n",
    "                # Plot losses every 10 epochs\n",
    "                self.plot_losses(train_losses, val_losses, epoch + 1)\n",
    "\n",
    "            fold_train_losses.append(avg_train_loss)\n",
    "            fold_val_losses.append(avg_val_loss)\n",
    "            fold_val_accuracies.append(val_accuracy)\n",
    "            fold_val_f1_scores.append(val_f1)\n",
    "\n",
    "            print(f\"Fold {fold + 1} - Train Loss: {avg_train_loss:.4f}, Train Accuracy: {train_accuracy:.2f}%\")\n",
    "            print(f\"Fold {fold + 1} - Val Loss: {avg_val_loss:.4f}, Val Accuracy: {val_accuracy:.2f}%\")\n",
    "            print(f\"Fold {fold + 1} - Val F1: {val_f1:.4f}\")\n",
    "\n",
    "        # Calculate average metrics across all folds\n",
    "        avg_train_loss = sum(fold_train_losses) / len(fold_train_losses)\n",
    "        avg_val_loss = sum(fold_val_losses) / len(fold_val_losses)\n",
    "        avg_val_accuracy = sum(fold_val_accuracies) / len(fold_val_accuracies)\n",
    "        avg_val_f1 = sum(fold_val_f1_scores) / len(fold_val_f1_scores)\n",
    "\n",
    "        print(f\"Average Train Loss: {avg_train_loss:.4f}\")\n",
    "        print(f\"Average Val Loss: {avg_val_loss:.4f}\")\n",
    "        print(f\"Average Val Accuracy: {avg_val_accuracy:.2f}%\")\n",
    "        print(f\"Average Val F1: {avg_val_f1:.4f}\")\n",
    "\n",
    "        return avg_train_loss, avg_val_loss, avg_val_accuracy, avg_val_f1\n"
   ]
  },
  {
   "cell_type": "code",
   "execution_count": 69,
   "metadata": {},
   "outputs": [],
   "source": [
    "stratified_kfold = StratifiedKFoldCV(\n",
    "    train_dataset=train_dataset, \n",
    "    train_labels_df=train_labels_raw_df,\n",
    "    val_dataset=val_dataset,\n",
    "    val_labels_df=val_labels_raw_df,\n",
    "    k_folds=5\n",
    ")"
   ]
  },
  {
   "cell_type": "code",
   "execution_count": null,
   "metadata": {},
   "outputs": [
    {
     "name": "stdout",
     "output_type": "stream",
     "text": [
      "Fold 1/5\n",
      "Epoch 1/50\n"
     ]
    },
    {
     "data": {
      "application/vnd.jupyter.widget-view+json": {
       "model_id": "50916ac736c048fd95c5c0e245b640e1",
       "version_major": 2,
       "version_minor": 0
      },
      "text/plain": [
       "Training Epoch 1:   0%|          | 0/530 [00:00<?, ?it/s]"
      ]
     },
     "metadata": {},
     "output_type": "display_data"
    }
   ],
   "source": [
    "avg_train_loss, avg_val_loss, avg_val_accuracy = stratified_kfold.run(model, optimizer, scheduler, criterion, device)"
   ]
  },
  {
   "cell_type": "code",
   "execution_count": 52,
   "metadata": {},
   "outputs": [
    {
     "data": {
      "text/plain": [
       "MultiLabelModel(\n",
       "  (feature_extractor): SwinModelWithPEFT(\n",
       "    (backbone): SwinForImageClassification(\n",
       "      (swin): SwinModel(\n",
       "        (embeddings): SwinEmbeddings(\n",
       "          (patch_embeddings): SwinPatchEmbeddings(\n",
       "            (projection): Conv2d(3, 96, kernel_size=(4, 4), stride=(4, 4))\n",
       "          )\n",
       "          (norm): LayerNorm((96,), eps=1e-05, elementwise_affine=True)\n",
       "          (dropout): Dropout(p=0.0, inplace=False)\n",
       "        )\n",
       "        (encoder): SwinEncoder(\n",
       "          (layers): ModuleList(\n",
       "            (0): SwinStage(\n",
       "              (blocks): ModuleList(\n",
       "                (0-1): 2 x SwinLayer(\n",
       "                  (layernorm_before): LayerNorm((96,), eps=1e-05, elementwise_affine=True)\n",
       "                  (attention): SwinAttention(\n",
       "                    (self): SwinSelfAttention(\n",
       "                      (query): Linear(in_features=96, out_features=96, bias=True)\n",
       "                      (key): Linear(in_features=96, out_features=96, bias=True)\n",
       "                      (value): Linear(in_features=96, out_features=96, bias=True)\n",
       "                      (dropout): Dropout(p=0.0, inplace=False)\n",
       "                    )\n",
       "                    (output): SwinSelfOutput(\n",
       "                      (dense): Linear(in_features=96, out_features=96, bias=True)\n",
       "                      (dropout): Dropout(p=0.0, inplace=False)\n",
       "                    )\n",
       "                  )\n",
       "                  (drop_path): SwinDropPath(p=0.1)\n",
       "                  (layernorm_after): LayerNorm((96,), eps=1e-05, elementwise_affine=True)\n",
       "                  (intermediate): SwinIntermediate(\n",
       "                    (dense): Linear(in_features=96, out_features=384, bias=True)\n",
       "                    (intermediate_act_fn): GELUActivation()\n",
       "                  )\n",
       "                  (output): SwinOutput(\n",
       "                    (dense): Linear(in_features=384, out_features=96, bias=True)\n",
       "                    (dropout): Dropout(p=0.0, inplace=False)\n",
       "                  )\n",
       "                )\n",
       "              )\n",
       "              (downsample): SwinPatchMerging(\n",
       "                (reduction): Linear(in_features=384, out_features=192, bias=False)\n",
       "                (norm): LayerNorm((384,), eps=1e-05, elementwise_affine=True)\n",
       "              )\n",
       "            )\n",
       "            (1): SwinStage(\n",
       "              (blocks): ModuleList(\n",
       "                (0-1): 2 x SwinLayer(\n",
       "                  (layernorm_before): LayerNorm((192,), eps=1e-05, elementwise_affine=True)\n",
       "                  (attention): SwinAttention(\n",
       "                    (self): SwinSelfAttention(\n",
       "                      (query): Linear(in_features=192, out_features=192, bias=True)\n",
       "                      (key): Linear(in_features=192, out_features=192, bias=True)\n",
       "                      (value): Linear(in_features=192, out_features=192, bias=True)\n",
       "                      (dropout): Dropout(p=0.0, inplace=False)\n",
       "                    )\n",
       "                    (output): SwinSelfOutput(\n",
       "                      (dense): Linear(in_features=192, out_features=192, bias=True)\n",
       "                      (dropout): Dropout(p=0.0, inplace=False)\n",
       "                    )\n",
       "                  )\n",
       "                  (drop_path): SwinDropPath(p=0.1)\n",
       "                  (layernorm_after): LayerNorm((192,), eps=1e-05, elementwise_affine=True)\n",
       "                  (intermediate): SwinIntermediate(\n",
       "                    (dense): Linear(in_features=192, out_features=768, bias=True)\n",
       "                    (intermediate_act_fn): GELUActivation()\n",
       "                  )\n",
       "                  (output): SwinOutput(\n",
       "                    (dense): Linear(in_features=768, out_features=192, bias=True)\n",
       "                    (dropout): Dropout(p=0.0, inplace=False)\n",
       "                  )\n",
       "                )\n",
       "              )\n",
       "              (downsample): SwinPatchMerging(\n",
       "                (reduction): Linear(in_features=768, out_features=384, bias=False)\n",
       "                (norm): LayerNorm((768,), eps=1e-05, elementwise_affine=True)\n",
       "              )\n",
       "            )\n",
       "            (2): SwinStage(\n",
       "              (blocks): ModuleList(\n",
       "                (0-5): 6 x SwinLayer(\n",
       "                  (layernorm_before): LayerNorm((384,), eps=1e-05, elementwise_affine=True)\n",
       "                  (attention): SwinAttention(\n",
       "                    (self): SwinSelfAttention(\n",
       "                      (query): Linear(in_features=384, out_features=384, bias=True)\n",
       "                      (key): Linear(in_features=384, out_features=384, bias=True)\n",
       "                      (value): Linear(in_features=384, out_features=384, bias=True)\n",
       "                      (dropout): Dropout(p=0.0, inplace=False)\n",
       "                    )\n",
       "                    (output): SwinSelfOutput(\n",
       "                      (dense): Linear(in_features=384, out_features=384, bias=True)\n",
       "                      (dropout): Dropout(p=0.0, inplace=False)\n",
       "                    )\n",
       "                  )\n",
       "                  (drop_path): SwinDropPath(p=0.1)\n",
       "                  (layernorm_after): LayerNorm((384,), eps=1e-05, elementwise_affine=True)\n",
       "                  (intermediate): SwinIntermediate(\n",
       "                    (dense): Linear(in_features=384, out_features=1536, bias=True)\n",
       "                    (intermediate_act_fn): GELUActivation()\n",
       "                  )\n",
       "                  (output): SwinOutput(\n",
       "                    (dense): Linear(in_features=1536, out_features=384, bias=True)\n",
       "                    (dropout): Dropout(p=0.0, inplace=False)\n",
       "                  )\n",
       "                )\n",
       "              )\n",
       "              (downsample): SwinPatchMerging(\n",
       "                (reduction): Linear(in_features=1536, out_features=768, bias=False)\n",
       "                (norm): LayerNorm((1536,), eps=1e-05, elementwise_affine=True)\n",
       "              )\n",
       "            )\n",
       "            (3): SwinStage(\n",
       "              (blocks): ModuleList(\n",
       "                (0-1): 2 x SwinLayer(\n",
       "                  (layernorm_before): LayerNorm((768,), eps=1e-05, elementwise_affine=True)\n",
       "                  (attention): SwinAttention(\n",
       "                    (self): SwinSelfAttention(\n",
       "                      (query): Linear(in_features=768, out_features=768, bias=True)\n",
       "                      (key): Linear(in_features=768, out_features=768, bias=True)\n",
       "                      (value): Linear(in_features=768, out_features=768, bias=True)\n",
       "                      (dropout): Dropout(p=0.0, inplace=False)\n",
       "                    )\n",
       "                    (output): SwinSelfOutput(\n",
       "                      (dense): Linear(in_features=768, out_features=768, bias=True)\n",
       "                      (dropout): Dropout(p=0.0, inplace=False)\n",
       "                    )\n",
       "                  )\n",
       "                  (drop_path): SwinDropPath(p=0.1)\n",
       "                  (layernorm_after): LayerNorm((768,), eps=1e-05, elementwise_affine=True)\n",
       "                  (intermediate): SwinIntermediate(\n",
       "                    (dense): Linear(in_features=768, out_features=3072, bias=True)\n",
       "                    (intermediate_act_fn): GELUActivation()\n",
       "                  )\n",
       "                  (output): SwinOutput(\n",
       "                    (dense): Linear(in_features=3072, out_features=768, bias=True)\n",
       "                    (dropout): Dropout(p=0.0, inplace=False)\n",
       "                  )\n",
       "                )\n",
       "              )\n",
       "            )\n",
       "          )\n",
       "        )\n",
       "        (layernorm): LayerNorm((768,), eps=1e-05, elementwise_affine=True)\n",
       "        (pooler): AdaptiveAvgPool1d(output_size=1)\n",
       "      )\n",
       "      (classifier): Identity()\n",
       "    )\n",
       "  )\n",
       "  (classifier): MultiLabelClassifier(\n",
       "    (classifier): Sequential(\n",
       "      (0): Linear(in_features=768, out_features=512, bias=True)\n",
       "      (1): GELU(approximate='none')\n",
       "      (2): Dropout(p=0.3, inplace=False)\n",
       "      (3): Linear(in_features=512, out_features=14, bias=True)\n",
       "      (4): Sigmoid()\n",
       "    )\n",
       "  )\n",
       ")"
      ]
     },
     "execution_count": 52,
     "metadata": {},
     "output_type": "execute_result"
    }
   ],
   "source": [
    "model"
   ]
  },
  {
   "cell_type": "code",
   "execution_count": null,
   "metadata": {},
   "outputs": [],
   "source": []
  }
 ],
 "metadata": {
  "kernelspec": {
   "display_name": "gnn",
   "language": "python",
   "name": "python3"
  },
  "language_info": {
   "codemirror_mode": {
    "name": "ipython",
    "version": 3
   },
   "file_extension": ".py",
   "mimetype": "text/x-python",
   "name": "python",
   "nbconvert_exporter": "python",
   "pygments_lexer": "ipython3",
   "version": "3.12.2"
  }
 },
 "nbformat": 4,
 "nbformat_minor": 2
}
